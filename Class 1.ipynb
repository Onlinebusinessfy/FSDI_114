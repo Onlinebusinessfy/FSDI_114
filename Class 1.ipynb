{
 "cells": [
  {
   "cell_type": "code",
   "execution_count": 2,
   "id": "f822811e-877d-4dda-9d0e-4fefbdb4ebb6",
   "metadata": {},
   "outputs": [
    {
     "name": "stdout",
     "output_type": "stream",
     "text": [
      "h\n",
      "e\n",
      "l\n",
      "l\n",
      "o\n",
      ",\n",
      " \n",
      "w\n",
      "o\n",
      "r\n",
      "l\n",
      "d\n",
      "!\n"
     ]
    }
   ],
   "source": [
    "for char in \"hello, world!\":\n",
    "    print(char)\n",
    "\n",
    "# Press shift+enter"
   ]
  },
  {
   "cell_type": "markdown",
   "id": "5ece1247-fa66-4ec0-a7d4-5ba8f35c6e92",
   "metadata": {},
   "source": [
    "# Problem 1\n",
    "\n",
    "# Anagram Check\n",
    "\n",
    "Given two stings, determine if these anagrams of each other. Your function should return True, if these are anagrams of each other, False otherwise.\n",
    "\n",
    "### Criteria\n",
    "Two strings are anagrams of each other, if *all* the criteria below are met:\n",
    "1. They must contain the same number of letters the same amount of times.\n",
    "2. They must be of equal length.\n",
    "\n",
    "```\n",
    "Examples:\n",
    "cars and scar\n",
    "star and rats\n",
    "earth and heart\n",
    "\n",
    "BUT ALSO:\n",
    "I am Lord Voldemort and Tom Marvolo Riddle\n",
    "```"
   ]
  },
  {
   "cell_type": "code",
   "execution_count": 3,
   "id": "980f43c6-10f7-49be-8406-f8011ef8de9f",
   "metadata": {},
   "outputs": [],
   "source": [
    "# This is a poor solution to this problem:\n",
    "def anagram_check(str1, str2):\n",
    "    return sorted(str1)==sorted(str2)"
   ]
  },
  {
   "cell_type": "code",
   "execution_count": 5,
   "id": "302cbeaf-7758-41ef-9bb1-d3b2973be164",
   "metadata": {},
   "outputs": [
    {
     "data": {
      "text/plain": [
       "True"
      ]
     },
     "execution_count": 5,
     "metadata": {},
     "output_type": "execute_result"
    }
   ],
   "source": [
    "anagram_check(\"cars\", \"scar\")"
   ]
  },
  {
   "cell_type": "code",
   "execution_count": 33,
   "id": "02a7fe1e-82a5-49b3-a1d9-462cc51fba6f",
   "metadata": {},
   "outputs": [],
   "source": [
    "def anagram_correct(str1, str2):\n",
    "    result1=str1.lower().strip().replace(\" \", \"\")\n",
    "    result2=str2.lower().strip().replace(\" \",\"\")\n",
    "    return sorted(result1)==sorted(result2)"
   ]
  },
  {
   "cell_type": "code",
   "execution_count": 34,
   "id": "6b4e47b4-7dc5-4a2f-a98b-41262d4e5ee7",
   "metadata": {},
   "outputs": [
    {
     "data": {
      "text/plain": [
       "True"
      ]
     },
     "execution_count": 34,
     "metadata": {},
     "output_type": "execute_result"
    }
   ],
   "source": [
    "anagram_correct(\"I am Lord Voldemort\", \"Tom Marvolo Riddle\")"
   ]
  },
  {
   "cell_type": "code",
   "execution_count": 35,
   "id": "6cdc517d-473d-41ae-8128-ecf8c2d9411d",
   "metadata": {},
   "outputs": [
    {
     "data": {
      "text/plain": [
       "True"
      ]
     },
     "execution_count": 35,
     "metadata": {},
     "output_type": "execute_result"
    }
   ],
   "source": [
    "anagram_correct(\"cars\", \"scar\")"
   ]
  }
 ],
 "metadata": {
  "kernelspec": {
   "display_name": "Python 3 (ipykernel)",
   "language": "python",
   "name": "python3"
  },
  "language_info": {
   "codemirror_mode": {
    "name": "ipython",
    "version": 3
   },
   "file_extension": ".py",
   "mimetype": "text/x-python",
   "name": "python",
   "nbconvert_exporter": "python",
   "pygments_lexer": "ipython3",
   "version": "3.12.3"
  }
 },
 "nbformat": 4,
 "nbformat_minor": 5
}
