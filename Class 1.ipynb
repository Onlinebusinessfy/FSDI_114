{
 "cells": [
  {
   "cell_type": "code",
   "execution_count": 2,
   "id": "f822811e-877d-4dda-9d0e-4fefbdb4ebb6",
   "metadata": {},
   "outputs": [
    {
     "name": "stdout",
     "output_type": "stream",
     "text": [
      "h\n",
      "e\n",
      "l\n",
      "l\n",
      "o\n",
      ",\n",
      " \n",
      "w\n",
      "o\n",
      "r\n",
      "l\n",
      "d\n",
      "!\n"
     ]
    }
   ],
   "source": [
    "for char in \"hello, world!\":\n",
    "    print(char)\n",
    "\n",
    "# Press shift+enter"
   ]
  },
  {
   "cell_type": "markdown",
   "id": "5ece1247-fa66-4ec0-a7d4-5ba8f35c6e92",
   "metadata": {},
   "source": [
    "# Problem 1\n",
    "\n",
    "# Anagram Check\n",
    "\n",
    "Given two stings, determine if these anagrams of each other. Your function should return True, if these are anagrams of each other, False otherwise.\n",
    "\n",
    "### Criteria\n",
    "Two strings are anagrams of each other, if *all* the criteria below are met:\n",
    "1. They must contain the same number of letters the same amount of times.\n",
    "2. They must be of equal length.\n",
    "\n",
    "```\n",
    "Examples:\n",
    "cars and scar\n",
    "star and rats\n",
    "earth and heart\n",
    "\n",
    "BUT ALSO:\n",
    "I am Lord Voldemort and Tom Marvolo Riddle\n",
    "```"
   ]
  },
  {
   "cell_type": "code",
   "execution_count": 3,
   "id": "980f43c6-10f7-49be-8406-f8011ef8de9f",
   "metadata": {},
   "outputs": [],
   "source": [
    "# This is a poor solution to this problem:\n",
    "def anagram_check(str1, str2):\n",
    "    return sorted(str1)==sorted(str2)"
   ]
  },
  {
   "cell_type": "code",
   "execution_count": 4,
   "id": "302cbeaf-7758-41ef-9bb1-d3b2973be164",
   "metadata": {},
   "outputs": [
    {
     "data": {
      "text/plain": [
       "True"
      ]
     },
     "execution_count": 4,
     "metadata": {},
     "output_type": "execute_result"
    }
   ],
   "source": [
    "anagram_check(\"cars\", \"scar\")"
   ]
  },
  {
   "cell_type": "code",
   "execution_count": 5,
   "id": "02a7fe1e-82a5-49b3-a1d9-462cc51fba6f",
   "metadata": {},
   "outputs": [],
   "source": [
    "def anagram_correct(str1, str2):\n",
    "    result1=str1.lower().strip().replace(\" \", \"\")\n",
    "    result2=str2.lower().strip().replace(\" \",\"\")\n",
    "    return sorted(result1)==sorted(result2)"
   ]
  },
  {
   "cell_type": "code",
   "execution_count": 6,
   "id": "6b4e47b4-7dc5-4a2f-a98b-41262d4e5ee7",
   "metadata": {},
   "outputs": [
    {
     "data": {
      "text/plain": [
       "True"
      ]
     },
     "execution_count": 6,
     "metadata": {},
     "output_type": "execute_result"
    }
   ],
   "source": [
    "anagram_correct(\"I am Lord Voldemort\", \"Tom Marvolo Riddle\")"
   ]
  },
  {
   "cell_type": "code",
   "execution_count": 7,
   "id": "6cdc517d-473d-41ae-8128-ecf8c2d9411d",
   "metadata": {},
   "outputs": [
    {
     "data": {
      "text/plain": [
       "True"
      ]
     },
     "execution_count": 7,
     "metadata": {},
     "output_type": "execute_result"
    }
   ],
   "source": [
    "anagram_correct(\"cars\", \"scar\")"
   ]
  },
  {
   "cell_type": "code",
   "execution_count": 8,
   "id": "0326eaf2-34b4-47ae-8f5c-3f979944cce1",
   "metadata": {},
   "outputs": [
    {
     "data": {
      "text/plain": [
       "'A'"
      ]
     },
     "execution_count": 8,
     "metadata": {},
     "output_type": "execute_result"
    }
   ],
   "source": [
    "# Based on ASCII:\n",
    "# To convert from characters to numbers:\n",
    "ord(\"A\")\n",
    "# To convert from numbers to characters:\n",
    "chr(65)"
   ]
  },
  {
   "cell_type": "code",
   "execution_count": 9,
   "id": "47027ae9-1c97-4877-a6e2-9e9b8ba73574",
   "metadata": {},
   "outputs": [],
   "source": [
    "# define function anagram_check with parameters: (str) string1 and (str) string2\n",
    "# string1 = string1 in lower case without spaces\n",
    "# string2 = string2 in lower case without spaces\n",
    "# if the length of string1 is not equal to the length of string2:\n",
    "#     return False\n",
    "# otherwise:\n",
    "#     dictionary1 = new dictionary\n",
    "#     dictionary2 = new dictionary\n",
    "#     for each number in the range from 0 to the length of string1:\n",
    "#        if the character at position number in string1 is not in dictionary1:\n",
    "#           create a new entry for that character in dictionary1, and set the value for it to 1\n",
    "#        otherwise:\n",
    "#           add 1 to the value associated with that character in dictionary1\n",
    "#        if the character at position number in string2 is not in dictionary2:\n",
    "#           create a new entry for that character in dictionary2, and set the value for it to 1\n",
    "#        otherwise:\n",
    "#           add 1 to the value associated with that character in dictionary2\n",
    "#      if dictionary1 is not equal to dictionary2:\n",
    "#         return False\n",
    "#      otherwise:\n",
    "#         return True"
   ]
  },
  {
   "cell_type": "code",
   "execution_count": 14,
   "id": "002745c7-8cb3-493a-a214-bee2971323b0",
   "metadata": {},
   "outputs": [],
   "source": [
    "def anagram_check(str1, str2):\n",
    "    str1= str1.replace(\" \", \"\").lower()\n",
    "    str2=str2.replace(\" \", \"\").lower()\n",
    "    if len(str1) != len(str2):\n",
    "        return False\n",
    "    dict1= {}\n",
    "    dict2= {}\n",
    "    for index in range(len(str1)):\n",
    "        if str1[index] not in dict1:\n",
    "            dict1[str1[index]] = 1\n",
    "        else:\n",
    "            dict1[str1[index]] += 1\n",
    "        if str2[index] not in dict2:\n",
    "            dict2[str2[index]] = 1\n",
    "        else:\n",
    "            dict2[str2[index]] += 1\n",
    "    return dict1 == dict2"
   ]
  },
  {
   "cell_type": "code",
   "execution_count": 15,
   "id": "63843b24-db6c-4ba5-8c6c-cf318a792842",
   "metadata": {},
   "outputs": [
    {
     "data": {
      "text/plain": [
       "True"
      ]
     },
     "execution_count": 15,
     "metadata": {},
     "output_type": "execute_result"
    }
   ],
   "source": [
    "anagram_check(\"I am Lord Voldemort\", \"Tom Marvolo Riddle\")"
   ]
  }
 ],
 "metadata": {
  "kernelspec": {
   "display_name": "Python 3 (ipykernel)",
   "language": "python",
   "name": "python3"
  },
  "language_info": {
   "codemirror_mode": {
    "name": "ipython",
    "version": 3
   },
   "file_extension": ".py",
   "mimetype": "text/x-python",
   "name": "python",
   "nbconvert_exporter": "python",
   "pygments_lexer": "ipython3",
   "version": "3.12.3"
  }
 },
 "nbformat": 4,
 "nbformat_minor": 5
}
