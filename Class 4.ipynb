{
 "cells": [
  {
   "cell_type": "markdown",
   "id": "9088b5dd-b4c6-4fdb-9c56-4005f13804ea",
   "metadata": {},
   "source": [
    "## Introduction to recursive functions\n",
    "A recursive function that calls itself at least once during execution.\n",
    "\n",
    "The exit condition in a recursive function is typically referred to as the \"base case\" and it represents a condition we know (for a fact) to be true.\n",
    "When the function calls itself, we can refer to this as the \"recursive case\"."
   ]
  },
  {
   "cell_type": "code",
   "execution_count": 3,
   "id": "ad3395b1-fe50-4266-9163-d0aad6e42bfe",
   "metadata": {},
   "outputs": [
    {
     "data": {
      "text/plain": [
       "120"
      ]
     },
     "execution_count": 3,
     "metadata": {},
     "output_type": "execute_result"
    }
   ],
   "source": [
    "# A simple example of recursive functions\n",
    "\n",
    "# The factorial of an integer N is N! = N*(N-1)!\n",
    "\n",
    "# For example, the factorial of 5, which is represented 5! is 5!=5x4! which can be evaluated as 5!=5x4x3x2x1\n",
    "\n",
    "def factorial(n):\n",
    "    # As a mathematical convention, the factorial of 0 is equal to 1.\n",
    "    if n < 1:                      # Base Case or exit condition\n",
    "        return 1\n",
    "    return n*factorial(n-1)        # Recursive case or recursive condition\n",
    "\n",
    "factorial(5)"
   ]
  },
  {
   "cell_type": "code",
   "execution_count": 6,
   "id": "2d4734f5-26fb-4dff-8968-6a376c757325",
   "metadata": {},
   "outputs": [
    {
     "data": {
      "text/plain": [
       "832040"
      ]
     },
     "execution_count": 6,
     "metadata": {},
     "output_type": "execute_result"
    }
   ],
   "source": [
    "# Challenges with recursion\n",
    "\n",
    "# The Fibonacci sequence\n",
    "\n",
    "# F0 = 0\n",
    "# F1 = 1\n",
    "\n",
    "# Example: 0, 1, 1, 2, 3, 5, 8, 13, 21\n",
    "\n",
    "# FN=F(N-1) + F(N-2)\n",
    "\n",
    "# What if I wanted to know F(30)?\n",
    "\n",
    "# Sub-optimal recursive function\n",
    "\n",
    "#Temporary fix to implement caching for this function:\n",
    "from functools import lru_cache\n",
    "\n",
    "@lru_cache\n",
    "def fibonacci(n):\n",
    "    if n<2:\n",
    "        return n\n",
    "    return fibonacci(n-1) + fibonacci(n-2)\n",
    "\n",
    "fibonacci(30)"
   ]
  },
  {
   "cell_type": "code",
   "execution_count": 7,
   "id": "f1ffb125-aeda-48db-bc23-c3b7ebcf9efb",
   "metadata": {},
   "outputs": [
    {
     "data": {
      "text/plain": [
       "3878968454388325633701916308325905312082127714646245106160597214895550139044037097010822916462210669479293452858882973813483102008954982940361430156911478938364216563944106910214505634133706558656238254656700712525929903854933813928836378347518908762970712033337052923107693008518093849801803847813996748881765554653788291644268912980384613778969021502293082475666346224923071883324803280375039130352903304505842701147635242270210934637699104006714174883298422891491273104054328753298044273676822977244987749874555691907703880637046832794811358973739993110106219308149018570815397854379195305617510761053075688783766033667355445258844886241619210553457493675897849027988234351023599844663934853256411952221859563060475364645470760330902420806382584929156452876291575759142343809142302917491088984155209854432486594079793571316841692868039545309545388698114665082066862897420639323438488465240988742395873801976993820317174208932265468879364002630797780058759129671389634214252579116872755600360311370547754724604639987588046985178408674382863125"
      ]
     },
     "execution_count": 7,
     "metadata": {},
     "output_type": "execute_result"
    }
   ],
   "source": [
    "\n",
    "for number in range(0, 5000):\n",
    "    fibonacci(number)\n",
    "\n",
    "fibonacci(5000) # This particular has a time complexity of O(n)"
   ]
  },
  {
   "cell_type": "code",
   "execution_count": 12,
   "id": "e05c7101-3bca-4780-b3a7-caf0754ee2e8",
   "metadata": {},
   "outputs": [
    {
     "data": {
      "text/plain": [
       "2178309"
      ]
     },
     "execution_count": 12,
     "metadata": {},
     "output_type": "execute_result"
    }
   ],
   "source": [
    "# Replacing lru_cache with built-in dictionary\n",
    "\n",
    "solutions=dict()\n",
    "\n",
    "def fib(n):\n",
    "    if n in solutions.keys():\n",
    "        return solutions[n]\n",
    "    if n<2:\n",
    "        return n\n",
    "    solutions[n]=fib(n-1) + fib(n-2)\n",
    "    return fib(n)\n",
    "\n",
    "fib(32)"
   ]
  },
  {
   "cell_type": "markdown",
   "id": "b4446bac-a0f2-47a2-89aa-c854bf541ecb",
   "metadata": {},
   "source": [
    "# Balanced parentheses check\n",
    "\n",
    "Given a string consisting solely of the set of charachers in { \"(\", \"[\",\"{\",\"}\",\"]\",\")\" } determine if the string is balanced. Your function \"balance_check\" should return True if the string is balanced, and False otherwise.\n",
    "\n",
    "# Criteria\n",
    "A string is balanced if all parentheses/brackets/braces close in the same order they were opened.\n",
    "\n",
    "## Examples\n",
    "```\n",
    "Balanced: ((({{{[[[]]]}}})))\n",
    "Balanced: ()()()[[[]]]\n",
    "Not Balanced: (((({)))))\n",
    "Not Balanced: ()()()[[[{}{}[}]]]\n",
    "```\n"
   ]
  },
  {
   "cell_type": "code",
   "execution_count": 13,
   "id": "1bed20ca-6d4d-4928-9526-aca370960126",
   "metadata": {},
   "outputs": [
    {
     "name": "stdout",
     "output_type": "stream",
     "text": [
      "That's an odd number\n"
     ]
    }
   ],
   "source": [
    "mystring=\"12345\"\n",
    "\n",
    "if len(mystring)%2 != 0:\n",
    "    print(\"That's an odd number\")\n",
    "else:\n",
    "    print(\"That's an even number\")\n",
    "\n",
    "# 1. Keep track of all possible combinations that are valid.\n",
    "# 2. Keep track of all valid characters in this space.\n",
    "# 2.1. Create a set of opening parentheses; In python we could do this: opening=set(\"{[(\")\n",
    "# 3. Check the lenght of the string, and if it contains an odd number of characters, return False\n",
    "# 4. Otherwise, we are going to loop over the recived string.\n",
    "# 4.1. As we loop, retrieve the next character in the string, beginning with the 0th character initially.\n",
    "# 5. Every time we loop, we check if the character is part of the \"openin\" set.\n",
    "# 5.1. If it is, add that character to our stack (push)\n",
    "# 5.2. If it isn't, pop the top character from the satck and compare the combination to the collection of valid combinations.\n",
    "# 5.2.1. If the combination does not exist in our collection, return False.\n",
    "# 6. After looping through the entire string, if the stack is not empty, return False, otherwise return True."
   ]
  },
  {
   "cell_type": "code",
   "execution_count": null,
   "id": "ea064784-3b5b-467c-90ea-ef8579e62615",
   "metadata": {},
   "outputs": [],
   "source": [
    "# Extra: Implement (and validate) DoublyLinkedList"
   ]
  },
  {
   "cell_type": "code",
   "execution_count": 1,
   "id": "a8df33be-e964-4b69-8d43-4171bf9a9e14",
   "metadata": {},
   "outputs": [],
   "source": [
    "# Pseudocode\n",
    "\n",
    "def balance_check(parentheses):\n",
    "    parentheses_combinations={')':'(', '}':'{', ']':'['}\n",
    "\n",
    "    valid=set(parentheses_combinations.values())\n",
    "    \n",
    "    if len(parentheses)%2!=0:\n",
    "        return False\n",
    "\n",
    "    stack=[]\n",
    "\n",
    "    for char in parentheses:\n",
    "        if char in valid:\n",
    "            stack.append(char)\n",
    "        else:\n",
    "            if not stack:\n",
    "                return False\n",
    "\n",
    "            top=stack.pop()\n",
    "        \n",
    "            if parentheses_combinations[char]!=top:\n",
    "                return False\n",
    "    return len(stack)==0"
   ]
  },
  {
   "cell_type": "code",
   "execution_count": 9,
   "id": "958e1cbc-37de-41d2-bbaa-6667e975c9ee",
   "metadata": {},
   "outputs": [
    {
     "data": {
      "text/plain": [
       "True"
      ]
     },
     "execution_count": 9,
     "metadata": {},
     "output_type": "execute_result"
    }
   ],
   "source": [
    "balance_check(\"([])\")"
   ]
  },
  {
   "cell_type": "code",
   "execution_count": 7,
   "id": "53d0794b-a579-4bf9-afbf-2eaea6e01fdc",
   "metadata": {},
   "outputs": [
    {
     "data": {
      "text/plain": [
       "True"
      ]
     },
     "execution_count": 7,
     "metadata": {},
     "output_type": "execute_result"
    }
   ],
   "source": [
    "balance_check(\"[[({{}})]]\")"
   ]
  },
  {
   "cell_type": "code",
   "execution_count": 8,
   "id": "5daf99e8-953d-412b-8d3e-7a995740b379",
   "metadata": {},
   "outputs": [
    {
     "data": {
      "text/plain": [
       "False"
      ]
     },
     "execution_count": 8,
     "metadata": {},
     "output_type": "execute_result"
    }
   ],
   "source": [
    "balance_check(\"(){{}]]()\")"
   ]
  }
 ],
 "metadata": {
  "kernelspec": {
   "display_name": "Python 3 (ipykernel)",
   "language": "python",
   "name": "python3"
  },
  "language_info": {
   "codemirror_mode": {
    "name": "ipython",
    "version": 3
   },
   "file_extension": ".py",
   "mimetype": "text/x-python",
   "name": "python",
   "nbconvert_exporter": "python",
   "pygments_lexer": "ipython3",
   "version": "3.12.3"
  }
 },
 "nbformat": 4,
 "nbformat_minor": 5
}
